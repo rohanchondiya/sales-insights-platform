{
 "cells": [
  {
   "cell_type": "code",
   "execution_count": 0,
   "metadata": {
    "application/vnd.databricks.v1+cell": {
     "cellMetadata": {
      "byteLimit": 2048000,
      "rowLimit": 10000
     },
     "inputWidgets": {},
     "nuid": "a0044c45-2050-419f-91c4-9beb15d284d0",
     "showTitle": false,
     "tableResultSettingsMap": {},
     "title": ""
    }
   },
   "outputs": [
    {
     "output_type": "display_data",
     "data": {
      "text/html": [
       "<style scoped>\n",
       "  .table-result-container {\n",
       "    max-height: 300px;\n",
       "    overflow: auto;\n",
       "  }\n",
       "  table, th, td {\n",
       "    border: 1px solid black;\n",
       "    border-collapse: collapse;\n",
       "  }\n",
       "  th, td {\n",
       "    padding: 5px;\n",
       "  }\n",
       "  th {\n",
       "    text-align: left;\n",
       "  }\n",
       "</style><div class='table-result-container'><table class='table-result'><thead style='background-color: white'><tr><th>OrderDate</th><th>Region</th><th>SalesPerson</th><th>Model</th><th>UnitsSold</th><th>Price</th><th>Revenue</th></tr></thead><tbody><tr><td>2024-01-15</td><td>North</td><td>Alice</td><td>Sedan</td><td>10</td><td>20000</td><td>200000</td></tr><tr><td>2024-02-20</td><td>South</td><td>Bob</td><td>SUV</td><td>15</td><td>30000</td><td>450000</td></tr><tr><td>2024-03-05</td><td>East</td><td>Charlie</td><td>Hatchback</td><td>20</td><td>15000</td><td>300000</td></tr><tr><td>2024-03-15</td><td>West</td><td>David</td><td>SUV</td><td>5</td><td>32000</td><td>160000</td></tr><tr><td>2024-04-10</td><td>Central</td><td>Eve</td><td>Sedan</td><td>12</td><td>21000</td><td>252000</td></tr></tbody></table></div>"
      ]
     },
     "metadata": {
      "application/vnd.databricks.v1+output": {
       "addedWidgets": {},
       "aggData": [],
       "aggError": "",
       "aggOverflow": false,
       "aggSchema": [],
       "aggSeriesLimitReached": false,
       "aggType": "",
       "arguments": {},
       "columnCustomDisplayInfos": {},
       "data": [
        [
         "2024-01-15",
         "North",
         "Alice",
         "Sedan",
         "10",
         "20000",
         "200000"
        ],
        [
         "2024-02-20",
         "South",
         "Bob",
         "SUV",
         "15",
         "30000",
         "450000"
        ],
        [
         "2024-03-05",
         "East",
         "Charlie",
         "Hatchback",
         "20",
         "15000",
         "300000"
        ],
        [
         "2024-03-15",
         "West",
         "David",
         "SUV",
         "5",
         "32000",
         "160000"
        ],
        [
         "2024-04-10",
         "Central",
         "Eve",
         "Sedan",
         "12",
         "21000",
         "252000"
        ]
       ],
       "datasetInfos": [],
       "dbfsResultPath": null,
       "isJsonSchema": true,
       "metadata": {},
       "overflow": false,
       "plotOptions": {
        "customPlotOptions": {},
        "displayType": "table",
        "pivotAggregation": null,
        "pivotColumns": null,
        "xColumns": null,
        "yColumns": null
       },
       "removedWidgets": [],
       "schema": [
        {
         "metadata": "{}",
         "name": "OrderDate",
         "type": "\"string\""
        },
        {
         "metadata": "{}",
         "name": "Region",
         "type": "\"string\""
        },
        {
         "metadata": "{}",
         "name": "SalesPerson",
         "type": "\"string\""
        },
        {
         "metadata": "{}",
         "name": "Model",
         "type": "\"string\""
        },
        {
         "metadata": "{}",
         "name": "UnitsSold",
         "type": "\"string\""
        },
        {
         "metadata": "{}",
         "name": "Price",
         "type": "\"string\""
        },
        {
         "metadata": "{}",
         "name": "Revenue",
         "type": "\"string\""
        }
       ],
       "type": "table"
      }
     },
     "output_type": "display_data"
    }
   ],
   "source": [
    "# 📥 Notebook 01: Ingest Sales Data from ADLS Gen2\n",
    "\n",
    "# Step 1: Set up access to ADLS Gen2 using SAS token\n",
    "sas_token = \"sv=2024-11-04&ss=bfqt&srt=sco&sp=rwdlacupyx&se=2025-05-29T17:35:56Z&st=2025-05-29T09:35:56Z&spr=https&sig=QarAE3j86hlYVLjclxloB%2BPAxWwDET46QqBo7dkGvO0%3D\"\n",
    "\n",
    "spark.conf.set(\"fs.azure.account.auth.type.storageprojectend.dfs.core.windows.net\", \"SAS\")\n",
    "spark.conf.set(\"fs.azure.sas.token.provider.type.storageprojectend.dfs.core.windows.net\",\n",
    "               \"org.apache.hadoop.fs.azurebfs.sas.FixedSASTokenProvider\")\n",
    "spark.conf.set(\"fs.azure.sas.fixed.token.storageprojectend.dfs.core.windows.net\", sas_token)\n",
    "\n",
    "# Step 2: Read CSV file from raw container\n",
    "df = spark.read.option(\"header\", \"true\").csv(\"abfss://raw@storageprojectend.dfs.core.windows.net/sales_data_sample.csv\")\n",
    "df.display()\n"
   ]
  },
  {
   "cell_type": "code",
   "execution_count": 0,
   "metadata": {
    "application/vnd.databricks.v1+cell": {
     "cellMetadata": {
      "byteLimit": 2048000,
      "rowLimit": 10000
     },
     "inputWidgets": {},
     "nuid": "01e59632-bcd6-4e72-9049-c4beb5adba3e",
     "showTitle": false,
     "tableResultSettingsMap": {},
     "title": ""
    }
   },
   "outputs": [
    {
     "output_type": "display_data",
     "data": {
      "text/html": [
       "<style scoped>\n",
       "  .table-result-container {\n",
       "    max-height: 300px;\n",
       "    overflow: auto;\n",
       "  }\n",
       "  table, th, td {\n",
       "    border: 1px solid black;\n",
       "    border-collapse: collapse;\n",
       "  }\n",
       "  th, td {\n",
       "    padding: 5px;\n",
       "  }\n",
       "  th {\n",
       "    text-align: left;\n",
       "  }\n",
       "</style><div class='table-result-container'><table class='table-result'><thead style='background-color: white'><tr><th>OrderDate</th><th>Region</th><th>SalesPerson</th><th>Model</th><th>UnitsSold</th><th>Price</th><th>Revenue</th></tr></thead><tbody><tr><td>2024-01-15</td><td>North</td><td>Alice</td><td>Sedan</td><td>10</td><td>20000.0</td><td>200000.0</td></tr><tr><td>2024-02-20</td><td>South</td><td>Bob</td><td>SUV</td><td>15</td><td>30000.0</td><td>450000.0</td></tr><tr><td>2024-03-05</td><td>East</td><td>Charlie</td><td>Hatchback</td><td>20</td><td>15000.0</td><td>300000.0</td></tr><tr><td>2024-03-15</td><td>West</td><td>David</td><td>SUV</td><td>5</td><td>32000.0</td><td>160000.0</td></tr><tr><td>2024-04-10</td><td>Central</td><td>Eve</td><td>Sedan</td><td>12</td><td>21000.0</td><td>252000.0</td></tr></tbody></table></div>"
      ]
     },
     "metadata": {
      "application/vnd.databricks.v1+output": {
       "addedWidgets": {},
       "aggData": [],
       "aggError": "",
       "aggOverflow": false,
       "aggSchema": [],
       "aggSeriesLimitReached": false,
       "aggType": "",
       "arguments": {},
       "columnCustomDisplayInfos": {},
       "data": [
        [
         "2024-01-15",
         "North",
         "Alice",
         "Sedan",
         10,
         20000.0,
         200000.0
        ],
        [
         "2024-02-20",
         "South",
         "Bob",
         "SUV",
         15,
         30000.0,
         450000.0
        ],
        [
         "2024-03-05",
         "East",
         "Charlie",
         "Hatchback",
         20,
         15000.0,
         300000.0
        ],
        [
         "2024-03-15",
         "West",
         "David",
         "SUV",
         5,
         32000.0,
         160000.0
        ],
        [
         "2024-04-10",
         "Central",
         "Eve",
         "Sedan",
         12,
         21000.0,
         252000.0
        ]
       ],
       "datasetInfos": [],
       "dbfsResultPath": null,
       "isJsonSchema": true,
       "metadata": {},
       "overflow": false,
       "plotOptions": {
        "customPlotOptions": {},
        "displayType": "table",
        "pivotAggregation": null,
        "pivotColumns": null,
        "xColumns": null,
        "yColumns": null
       },
       "removedWidgets": [],
       "schema": [
        {
         "metadata": "{}",
         "name": "OrderDate",
         "type": "\"date\""
        },
        {
         "metadata": "{}",
         "name": "Region",
         "type": "\"string\""
        },
        {
         "metadata": "{}",
         "name": "SalesPerson",
         "type": "\"string\""
        },
        {
         "metadata": "{}",
         "name": "Model",
         "type": "\"string\""
        },
        {
         "metadata": "{}",
         "name": "UnitsSold",
         "type": "\"integer\""
        },
        {
         "metadata": "{}",
         "name": "Price",
         "type": "\"double\""
        },
        {
         "metadata": "{}",
         "name": "Revenue",
         "type": "\"double\""
        }
       ],
       "type": "table"
      }
     },
     "output_type": "display_data"
    }
   ],
   "source": [
    "# 📘 Notebook 02: Data Transformation in Databricks\n",
    "\n",
    "from pyspark.sql.functions import col, to_date\n",
    "\n",
    "# Step 1: Load data from raw ADLS\n",
    "df = spark.read.option(\"header\", \"true\").csv(\"abfss://raw@storageprojectend.dfs.core.windows.net/sales_data_sample.csv\")\n",
    "\n",
    "# Step 2: Cast data types\n",
    "df_cleaned = (\n",
    "    df.withColumn(\"OrderDate\", to_date(col(\"OrderDate\"), \"yyyy-MM-dd\"))\n",
    "      .withColumn(\"UnitsSold\", col(\"UnitsSold\").cast(\"int\"))\n",
    "      .withColumn(\"Price\", col(\"Price\").cast(\"double\"))\n",
    "      .withColumn(\"Revenue\", col(\"Revenue\").cast(\"double\"))\n",
    ")\n",
    "\n",
    "# Step 3: Optional filtering or enrichment\n",
    "df_final = df_cleaned.filter(col(\"UnitsSold\") > 0)\n",
    "\n",
    "# Preview\n",
    "df_final.display()\n",
    "\n",
    "\n"
   ]
  },
  {
   "cell_type": "code",
   "execution_count": 0,
   "metadata": {
    "application/vnd.databricks.v1+cell": {
     "cellMetadata": {
      "byteLimit": 2048000,
      "rowLimit": 10000
     },
     "inputWidgets": {},
     "nuid": "b8615ed4-4181-4ec6-8ff6-04110ca1096c",
     "showTitle": false,
     "tableResultSettingsMap": {},
     "title": ""
    }
   },
   "outputs": [],
   "source": [
    "# 📤 Notebook 03: Export Transformed Data to Curated Layer\n",
    "\n",
    "# Write the final dataframe as a partitioned Parquet file\n",
    "df_final.write.mode(\"overwrite\").parquet(\"abfss://raw@storageprojectend.dfs.core.windows.net/sales_data/\")\n",
    "\n",
    "# You can also register this as a table (optional)\n",
    "df_final.write.mode(\"overwrite\").saveAsTable(\"sales_data_curated\")"
   ]
  }
 ],
 "metadata": {
  "application/vnd.databricks.v1+notebook": {
   "computePreferences": null,
   "dashboards": [],
   "environmentMetadata": {
    "base_environment": "",
    "environment_version": "1"
   },
   "inputWidgetPreferences": null,
   "language": "python",
   "notebookMetadata": {
    "pythonIndentUnit": 4
   },
   "notebookName": "SALES_DATA",
   "widgets": {}
  }
 },
 "nbformat": 4,
 "nbformat_minor": 0
}